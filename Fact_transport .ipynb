{
 "cells": [
  {
   "cell_type": "markdown",
   "id": "6c49b88c",
   "metadata": {},
   "source": [
    "## Question : 1"
   ]
  },
  {
   "cell_type": "code",
   "execution_count": 1,
   "id": "5ad633a0",
   "metadata": {},
   "outputs": [],
   "source": [
    "import pandas as pd\n",
    "import numpy as np\n",
    "import seaborn as sns\n",
    "import matplotlib.pyplot as plt"
   ]
  },
  {
   "cell_type": "code",
   "execution_count": 3,
   "id": "fa1995ee",
   "metadata": {},
   "outputs": [],
   "source": [
    "df = pd.read_csv(\"fact_transport.csv\")"
   ]
  },
  {
   "cell_type": "code",
   "execution_count": 4,
   "id": "761a3807",
   "metadata": {},
   "outputs": [],
   "source": [
    "df['month'] = pd.to_datetime(df['month'])"
   ]
  },
  {
   "cell_type": "code",
   "execution_count": 5,
   "id": "b04cb635",
   "metadata": {},
   "outputs": [],
   "source": [
    "filtered_df = df[['dist_code', 'month', 'fuel_type_petrol', 'fuel_type_diesel', 'fuel_type_electric']]"
   ]
  },
  {
   "cell_type": "code",
   "execution_count": 6,
   "id": "6871d2d1",
   "metadata": {},
   "outputs": [
    {
     "name": "stderr",
     "output_type": "stream",
     "text": [
      "C:\\Users\\raman\\AppData\\Local\\Temp\\ipykernel_24276\\4179085375.py:1: SettingWithCopyWarning: \n",
      "A value is trying to be set on a copy of a slice from a DataFrame.\n",
      "Try using .loc[row_indexer,col_indexer] = value instead\n",
      "\n",
      "See the caveats in the documentation: https://pandas.pydata.org/pandas-docs/stable/user_guide/indexing.html#returning-a-view-versus-a-copy\n",
      "  filtered_df['month'] = pd.to_datetime(filtered_df['month'])\n"
     ]
    }
   ],
   "source": [
    "filtered_df['month'] = pd.to_datetime(filtered_df['month'])"
   ]
  },
  {
   "cell_type": "code",
   "execution_count": 7,
   "id": "f1959a09",
   "metadata": {},
   "outputs": [
    {
     "name": "stdout",
     "output_type": "stream",
     "text": [
      "FY2021 Data:\n",
      "    dist_code      month  fuel_type_petrol  fuel_type_diesel  \\\n",
      "720      21_3 2021-04-01               990               285   \n",
      "721      21_7 2021-04-01              1750               360   \n",
      "722      14_1 2021-04-01              3301               661   \n",
      "723      17_3 2021-04-01              1893               474   \n",
      "724      14_3 2021-04-01              1718               539   \n",
      "\n",
      "     fuel_type_electric  \n",
      "720                   0  \n",
      "721                  10  \n",
      "722                  19  \n",
      "723                   6  \n",
      "724                   2  \n",
      "\n",
      "FY2022 Data:\n",
      "     dist_code      month  fuel_type_petrol  fuel_type_diesel  \\\n",
      "1080      14_4 2022-04-01               936               312   \n",
      "1081      21_7 2022-04-01              1291               211   \n",
      "1082      14_1 2022-04-01              2185               433   \n",
      "1083      17_3 2022-04-01              2034               521   \n",
      "1084      14_3 2022-04-01              1489               383   \n",
      "\n",
      "      fuel_type_electric  \n",
      "1080                  16  \n",
      "1081                  34  \n",
      "1082                  55  \n",
      "1083                  44  \n",
      "1084                  24  \n"
     ]
    }
   ],
   "source": [
    "# Define the date ranges for FY2021 and FY2022\n",
    "start_date_fy2021 = '2021-04-01'\n",
    "end_date_fy2021 = '2022-03-31'\n",
    "start_date_fy2022 = '2022-04-01'\n",
    "end_date_fy2022 = '2023-03-31'\n",
    "\n",
    "# Create DataFrames for FY2021 and FY2022\n",
    "FY2021 = filtered_df[(filtered_df['month'] >= start_date_fy2021) & (filtered_df['month'] <= end_date_fy2021)]\n",
    "FY2022 = filtered_df[(filtered_df['month'] >= start_date_fy2022) & (filtered_df['month'] <= end_date_fy2022)]\n",
    "\n",
    "# Display the first few rows of each DataFrame to verify the filtering\n",
    "print(\"FY2021 Data:\")\n",
    "print(FY2021.head())\n",
    "print(\"\\nFY2022 Data:\")\n",
    "print(FY2022.head())"
   ]
  },
  {
   "cell_type": "code",
   "execution_count": 9,
   "id": "545fb1cc",
   "metadata": {},
   "outputs": [],
   "source": [
    "# Calculate total vehicle sales for each fuel type in FY2021\n",
    "fy2021_petrol_sales = FY2021['fuel_type_petrol'].sum()\n",
    "fy2021_diesel_sales = FY2021['fuel_type_diesel'].sum()\n",
    "fy2021_electric_sales = FY2021['fuel_type_electric'].sum()"
   ]
  },
  {
   "cell_type": "code",
   "execution_count": 10,
   "id": "88c573d0",
   "metadata": {},
   "outputs": [],
   "source": [
    "# Calculate total vehicle sales for each fuel type in FY2022\n",
    "fy2022_petrol_sales = FY2022['fuel_type_petrol'].sum()\n",
    "fy2022_diesel_sales = FY2022['fuel_type_diesel'].sum()\n",
    "fy2022_electric_sales = FY2022['fuel_type_electric'].sum()"
   ]
  },
  {
   "cell_type": "code",
   "execution_count": 11,
   "id": "587ea1f0",
   "metadata": {},
   "outputs": [],
   "source": [
    "# Create a DataFrame for comparison\n",
    "fuel_type_comparison = pd.DataFrame({\n",
    "    'Fuel_Type': ['Petrol', 'Diesel', 'Electric'],\n",
    "    'FY2021_Sales': [fy2021_petrol_sales, fy2021_diesel_sales, fy2021_electric_sales],\n",
    "    'FY2022_Sales': [fy2022_petrol_sales, fy2022_diesel_sales, fy2022_electric_sales]\n",
    "})"
   ]
  },
  {
   "cell_type": "code",
   "execution_count": 12,
   "id": "7a5f3372",
   "metadata": {},
   "outputs": [],
   "source": [
    "# Calculate the percentage change in vehicle sales for each fuel type\n",
    "fuel_type_comparison['Percentage_Change'] = ((fuel_type_comparison['FY2022_Sales'] - fuel_type_comparison['FY2021_Sales']) / fuel_type_comparison['FY2021_Sales']) * 100"
   ]
  },
  {
   "cell_type": "code",
   "execution_count": 13,
   "id": "9d5bb7a2",
   "metadata": {},
   "outputs": [
    {
     "name": "stdout",
     "output_type": "stream",
     "text": [
      "Comparison of Vehicle Sales by Fuel Type (FY2021 vs. FY2022):\n",
      "\n",
      "  Fuel_Type  FY2021_Sales  FY2022_Sales  Percentage_Change\n",
      "0    Petrol       1300723       1118857         -13.981916\n",
      "1    Diesel        199346        196103          -1.626820\n",
      "2  Electric         31004         62532         101.690105\n"
     ]
    }
   ],
   "source": [
    "# Display the comparison DataFrame\n",
    "print(\"Comparison of Vehicle Sales by Fuel Type (FY2021 vs. FY2022):\\n\")\n",
    "print(fuel_type_comparison)"
   ]
  },
  {
   "cell_type": "code",
   "execution_count": 29,
   "id": "86c50845",
   "metadata": {},
   "outputs": [],
   "source": [
    "# Group and sum the values for each fuel type (petrol, diesel, electric) across FY2021 and FY2022\n",
    "FY2021_grouped = FY2021.groupby('dist_code').agg({\n",
    "    'fuel_type_petrol': 'sum',\n",
    "    'fuel_type_diesel': 'sum',\n",
    "    'fuel_type_electric': 'sum'\n",
    "}).reset_index()"
   ]
  },
  {
   "cell_type": "code",
   "execution_count": 30,
   "id": "946591f0",
   "metadata": {},
   "outputs": [],
   "source": [
    "FY2022_grouped = FY2022.groupby('dist_code').agg({\n",
    "    'fuel_type_petrol': 'sum',\n",
    "    'fuel_type_diesel': 'sum',\n",
    "    'fuel_type_electric': 'sum'\n",
    "}).reset_index()"
   ]
  },
  {
   "cell_type": "code",
   "execution_count": 31,
   "id": "e5b571b2",
   "metadata": {},
   "outputs": [
    {
     "data": {
      "text/html": [
       "<div>\n",
       "<style scoped>\n",
       "    .dataframe tbody tr th:only-of-type {\n",
       "        vertical-align: middle;\n",
       "    }\n",
       "\n",
       "    .dataframe tbody tr th {\n",
       "        vertical-align: top;\n",
       "    }\n",
       "\n",
       "    .dataframe thead th {\n",
       "        text-align: right;\n",
       "    }\n",
       "</style>\n",
       "<table border=\"1\" class=\"dataframe\">\n",
       "  <thead>\n",
       "    <tr style=\"text-align: right;\">\n",
       "      <th></th>\n",
       "      <th>dist_code</th>\n",
       "      <th>fuel_type_petrol</th>\n",
       "      <th>fuel_type_diesel</th>\n",
       "      <th>fuel_type_electric</th>\n",
       "    </tr>\n",
       "  </thead>\n",
       "  <tbody>\n",
       "    <tr>\n",
       "      <th>0</th>\n",
       "      <td>14_1</td>\n",
       "      <td>31344</td>\n",
       "      <td>6029</td>\n",
       "      <td>324</td>\n",
       "    </tr>\n",
       "    <tr>\n",
       "      <th>1</th>\n",
       "      <td>14_2</td>\n",
       "      <td>14239</td>\n",
       "      <td>2309</td>\n",
       "      <td>52</td>\n",
       "    </tr>\n",
       "    <tr>\n",
       "      <th>2</th>\n",
       "      <td>14_3</td>\n",
       "      <td>19215</td>\n",
       "      <td>5964</td>\n",
       "      <td>105</td>\n",
       "    </tr>\n",
       "    <tr>\n",
       "      <th>3</th>\n",
       "      <td>14_4</td>\n",
       "      <td>13584</td>\n",
       "      <td>2686</td>\n",
       "      <td>146</td>\n",
       "    </tr>\n",
       "    <tr>\n",
       "      <th>4</th>\n",
       "      <td>15_1</td>\n",
       "      <td>184204</td>\n",
       "      <td>24711</td>\n",
       "      <td>5918</td>\n",
       "    </tr>\n",
       "  </tbody>\n",
       "</table>\n",
       "</div>"
      ],
      "text/plain": [
       "  dist_code  fuel_type_petrol  fuel_type_diesel  fuel_type_electric\n",
       "0      14_1             31344              6029                 324\n",
       "1      14_2             14239              2309                  52\n",
       "2      14_3             19215              5964                 105\n",
       "3      14_4             13584              2686                 146\n",
       "4      15_1            184204             24711                5918"
      ]
     },
     "execution_count": 31,
     "metadata": {},
     "output_type": "execute_result"
    }
   ],
   "source": [
    "FY2021_grouped.head()"
   ]
  },
  {
   "cell_type": "code",
   "execution_count": 32,
   "id": "29bbca17",
   "metadata": {},
   "outputs": [
    {
     "data": {
      "text/html": [
       "<div>\n",
       "<style scoped>\n",
       "    .dataframe tbody tr th:only-of-type {\n",
       "        vertical-align: middle;\n",
       "    }\n",
       "\n",
       "    .dataframe tbody tr th {\n",
       "        vertical-align: top;\n",
       "    }\n",
       "\n",
       "    .dataframe thead th {\n",
       "        text-align: right;\n",
       "    }\n",
       "</style>\n",
       "<table border=\"1\" class=\"dataframe\">\n",
       "  <thead>\n",
       "    <tr style=\"text-align: right;\">\n",
       "      <th></th>\n",
       "      <th>dist_code</th>\n",
       "      <th>fuel_type_petrol</th>\n",
       "      <th>fuel_type_diesel</th>\n",
       "      <th>fuel_type_electric</th>\n",
       "    </tr>\n",
       "  </thead>\n",
       "  <tbody>\n",
       "    <tr>\n",
       "      <th>0</th>\n",
       "      <td>14_1</td>\n",
       "      <td>20274</td>\n",
       "      <td>4790</td>\n",
       "      <td>387</td>\n",
       "    </tr>\n",
       "    <tr>\n",
       "      <th>1</th>\n",
       "      <td>14_2</td>\n",
       "      <td>10911</td>\n",
       "      <td>2336</td>\n",
       "      <td>84</td>\n",
       "    </tr>\n",
       "    <tr>\n",
       "      <th>2</th>\n",
       "      <td>14_3</td>\n",
       "      <td>14210</td>\n",
       "      <td>5167</td>\n",
       "      <td>171</td>\n",
       "    </tr>\n",
       "    <tr>\n",
       "      <th>3</th>\n",
       "      <td>14_4</td>\n",
       "      <td>9641</td>\n",
       "      <td>2745</td>\n",
       "      <td>154</td>\n",
       "    </tr>\n",
       "    <tr>\n",
       "      <th>4</th>\n",
       "      <td>15_1</td>\n",
       "      <td>200289</td>\n",
       "      <td>27843</td>\n",
       "      <td>13606</td>\n",
       "    </tr>\n",
       "  </tbody>\n",
       "</table>\n",
       "</div>"
      ],
      "text/plain": [
       "  dist_code  fuel_type_petrol  fuel_type_diesel  fuel_type_electric\n",
       "0      14_1             20274              4790                 387\n",
       "1      14_2             10911              2336                  84\n",
       "2      14_3             14210              5167                 171\n",
       "3      14_4              9641              2745                 154\n",
       "4      15_1            200289             27843               13606"
      ]
     },
     "execution_count": 32,
     "metadata": {},
     "output_type": "execute_result"
    }
   ],
   "source": [
    "FY2022_grouped.head()"
   ]
  },
  {
   "cell_type": "code",
   "execution_count": 33,
   "id": "89bdbda3",
   "metadata": {},
   "outputs": [],
   "source": [
    "# Merge the two data frames on 'dist_code' to compare FY2021 and FY2022 values\n",
    "merged_data = FY2021_grouped.merge(FY2022_grouped, on='dist_code', suffixes=('_FY2021', '_FY2022'))"
   ]
  },
  {
   "cell_type": "code",
   "execution_count": 51,
   "id": "dedcf235",
   "metadata": {},
   "outputs": [
    {
     "data": {
      "text/html": [
       "<div>\n",
       "<style scoped>\n",
       "    .dataframe tbody tr th:only-of-type {\n",
       "        vertical-align: middle;\n",
       "    }\n",
       "\n",
       "    .dataframe tbody tr th {\n",
       "        vertical-align: top;\n",
       "    }\n",
       "\n",
       "    .dataframe thead th {\n",
       "        text-align: right;\n",
       "    }\n",
       "</style>\n",
       "<table border=\"1\" class=\"dataframe\">\n",
       "  <thead>\n",
       "    <tr style=\"text-align: right;\">\n",
       "      <th></th>\n",
       "      <th>dist_code</th>\n",
       "      <th>fuel_type_petrol_FY2021</th>\n",
       "      <th>fuel_type_diesel_FY2021</th>\n",
       "      <th>fuel_type_electric_FY2021</th>\n",
       "      <th>fuel_type_petrol_FY2022</th>\n",
       "      <th>fuel_type_diesel_FY2022</th>\n",
       "      <th>fuel_type_electric_FY2022</th>\n",
       "      <th>fuel_type_petrol_Percentage_Change</th>\n",
       "      <th>fuel_type_diesel_Percentage_Change</th>\n",
       "      <th>fuel_type_electric_Percentage_Change</th>\n",
       "    </tr>\n",
       "  </thead>\n",
       "  <tbody>\n",
       "    <tr>\n",
       "      <th>0</th>\n",
       "      <td>14_1</td>\n",
       "      <td>31344</td>\n",
       "      <td>6029</td>\n",
       "      <td>324</td>\n",
       "      <td>20274</td>\n",
       "      <td>4790</td>\n",
       "      <td>387</td>\n",
       "      <td>-35.317764</td>\n",
       "      <td>-20.550672</td>\n",
       "      <td>19.444444</td>\n",
       "    </tr>\n",
       "    <tr>\n",
       "      <th>1</th>\n",
       "      <td>14_2</td>\n",
       "      <td>14239</td>\n",
       "      <td>2309</td>\n",
       "      <td>52</td>\n",
       "      <td>10911</td>\n",
       "      <td>2336</td>\n",
       "      <td>84</td>\n",
       "      <td>-23.372428</td>\n",
       "      <td>1.169337</td>\n",
       "      <td>61.538462</td>\n",
       "    </tr>\n",
       "    <tr>\n",
       "      <th>2</th>\n",
       "      <td>14_3</td>\n",
       "      <td>19215</td>\n",
       "      <td>5964</td>\n",
       "      <td>105</td>\n",
       "      <td>14210</td>\n",
       "      <td>5167</td>\n",
       "      <td>171</td>\n",
       "      <td>-26.047359</td>\n",
       "      <td>-13.363514</td>\n",
       "      <td>62.857143</td>\n",
       "    </tr>\n",
       "    <tr>\n",
       "      <th>3</th>\n",
       "      <td>14_4</td>\n",
       "      <td>13584</td>\n",
       "      <td>2686</td>\n",
       "      <td>146</td>\n",
       "      <td>9641</td>\n",
       "      <td>2745</td>\n",
       "      <td>154</td>\n",
       "      <td>-29.026796</td>\n",
       "      <td>2.196575</td>\n",
       "      <td>5.479452</td>\n",
       "    </tr>\n",
       "    <tr>\n",
       "      <th>4</th>\n",
       "      <td>15_1</td>\n",
       "      <td>184204</td>\n",
       "      <td>24711</td>\n",
       "      <td>5918</td>\n",
       "      <td>200289</td>\n",
       "      <td>27843</td>\n",
       "      <td>13606</td>\n",
       "      <td>8.732167</td>\n",
       "      <td>12.674517</td>\n",
       "      <td>129.908753</td>\n",
       "    </tr>\n",
       "  </tbody>\n",
       "</table>\n",
       "</div>"
      ],
      "text/plain": [
       "  dist_code  fuel_type_petrol_FY2021  fuel_type_diesel_FY2021  \\\n",
       "0      14_1                    31344                     6029   \n",
       "1      14_2                    14239                     2309   \n",
       "2      14_3                    19215                     5964   \n",
       "3      14_4                    13584                     2686   \n",
       "4      15_1                   184204                    24711   \n",
       "\n",
       "   fuel_type_electric_FY2021  fuel_type_petrol_FY2022  \\\n",
       "0                        324                    20274   \n",
       "1                         52                    10911   \n",
       "2                        105                    14210   \n",
       "3                        146                     9641   \n",
       "4                       5918                   200289   \n",
       "\n",
       "   fuel_type_diesel_FY2022  fuel_type_electric_FY2022  \\\n",
       "0                     4790                        387   \n",
       "1                     2336                         84   \n",
       "2                     5167                        171   \n",
       "3                     2745                        154   \n",
       "4                    27843                      13606   \n",
       "\n",
       "   fuel_type_petrol_Percentage_Change  fuel_type_diesel_Percentage_Change  \\\n",
       "0                          -35.317764                          -20.550672   \n",
       "1                          -23.372428                            1.169337   \n",
       "2                          -26.047359                          -13.363514   \n",
       "3                          -29.026796                            2.196575   \n",
       "4                            8.732167                           12.674517   \n",
       "\n",
       "   fuel_type_electric_Percentage_Change  \n",
       "0                             19.444444  \n",
       "1                             61.538462  \n",
       "2                             62.857143  \n",
       "3                              5.479452  \n",
       "4                            129.908753  "
      ]
     },
     "execution_count": 51,
     "metadata": {},
     "output_type": "execute_result"
    }
   ],
   "source": [
    "merged_data.head()"
   ]
  },
  {
   "cell_type": "code",
   "execution_count": 52,
   "id": "1c3349a2",
   "metadata": {},
   "outputs": [],
   "source": [
    "# Calculate the percentage change for each fuel type\n",
    "merged_data['fuel_type_petrol_Percentage_Change'] = ((merged_data['fuel_type_petrol_FY2022'] - merged_data['fuel_type_petrol_FY2021']) / merged_data['fuel_type_petrol_FY2021']) * 100"
   ]
  },
  {
   "cell_type": "code",
   "execution_count": 53,
   "id": "fd1c08c4",
   "metadata": {},
   "outputs": [],
   "source": [
    "# Calculate the percentage change for each fuel type\n",
    "merged_data['fuel_type_diesel_Percentage_Change'] = ((merged_data['fuel_type_diesel_FY2022'] - merged_data['fuel_type_diesel_FY2021']) / merged_data['fuel_type_diesel_FY2021']) * 100"
   ]
  },
  {
   "cell_type": "code",
   "execution_count": 54,
   "id": "14b2605b",
   "metadata": {},
   "outputs": [],
   "source": [
    "# Calculate the percentage change for each fuel type\n",
    "merged_data['fuel_type_electric_Percentage_Change'] = ((merged_data['fuel_type_electric_FY2022'] - merged_data['fuel_type_electric_FY2021']) / merged_data['fuel_type_electric_FY2021']) * 100"
   ]
  },
  {
   "cell_type": "code",
   "execution_count": 55,
   "id": "eaa9d255",
   "metadata": {},
   "outputs": [],
   "source": [
    "# Sort the data frame based on the percentage change in descending order\n",
    "sorted_data = merged_data.sort_values(by='fuel_type_petrol_Percentage_Change', ascending=False)"
   ]
  },
  {
   "cell_type": "code",
   "execution_count": 56,
   "id": "c3c3e7ac",
   "metadata": {},
   "outputs": [],
   "source": [
    "top_3p = sorted_data[['dist_code', 'fuel_type_petrol_Percentage_Change']].head(3)\n",
    "bottom_3p = sorted_data[['dist_code', 'fuel_type_petrol_Percentage_Change']].tail(3)"
   ]
  },
  {
   "cell_type": "code",
   "execution_count": 57,
   "id": "d737a24f",
   "metadata": {},
   "outputs": [
    {
     "name": "stdout",
     "output_type": "stream",
     "text": [
      "Top 3 Districts with Highest Vehicle Sales Growth (FY2022 vs. FY2021):\n",
      "  dist_code  fuel_type_petrol_Percentage_Change\n",
      "4      15_1                            8.732167\n",
      "7      16_1                            1.026585\n",
      "5      15_2                           -0.904198\n",
      "\n",
      "Bottom 3 Districts with Lowest Vehicle Sales Growth (FY2022 vs. FY2021):\n",
      "   dist_code  fuel_type_petrol_Percentage_Change\n",
      "18      20_2                          -40.525155\n",
      "14      19_2                          -41.051352\n",
      "21      21_2                          -45.319828\n"
     ]
    }
   ],
   "source": [
    "print(\"Top 3 Districts with Highest Vehicle Sales Growth (FY2022 vs. FY2021):\")\n",
    "print(top_3p)\n",
    "\n",
    "print(\"\\nBottom 3 Districts with Lowest Vehicle Sales Growth (FY2022 vs. FY2021):\")\n",
    "print(bottom_3p)"
   ]
  },
  {
   "cell_type": "code",
   "execution_count": 69,
   "id": "2842c9a3",
   "metadata": {},
   "outputs": [
    {
     "name": "stderr",
     "output_type": "stream",
     "text": [
      "C:\\Users\\raman\\AppData\\Local\\Temp\\ipykernel_24276\\1265847984.py:2: FutureWarning: The frame.append method is deprecated and will be removed from pandas in a future version. Use pandas.concat instead.\n",
      "  top_bottom_data = top_3p.append(bottom_3p)\n"
     ]
    },
    {
     "data": {
      "image/png": "[encoded data removed]",
      "text/plain": [
       "<Figure size 600x400 with 1 Axes>"
      ]
     },
     "metadata": {},
     "output_type": "display_data"
    }
   ],
   "source": [
    "# Top 3 and bottom 3 districts\n",
    "top_bottom_data = top_3p.append(bottom_3p)\n",
    "\n",
    "# Create a bar plot\n",
    "plt.figure(figsize=(6, 4))\n",
    "plt.bar(top_bottom_data['dist_code'], top_bottom_data['fuel_type_petrol_Percentage_Change'], color=['green' if x >= 0 else 'red' for x in top_bottom_data['fuel_type_petrol_Percentage_Change']])\n",
    "plt.xlabel('Districts')\n",
    "plt.ylabel('Percentage Change in Petrol Vehicle Sales (FY2022 vs. FY2021)')\n",
    "plt.title('Top 3 and Bottom 3 Districts: Petrol Vehicle Sales (FY2022 vs. FY2021)')\n",
    "plt.xticks(rotation=45)\n",
    "plt.grid(axis='y', linestyle='--', alpha=0.7)\n",
    "\n",
    "# Display the plot\n",
    "plt.tight_layout()\n",
    "plt.show()"
   ]
  },
  {
   "cell_type": "code",
   "execution_count": 58,
   "id": "03379e30",
   "metadata": {},
   "outputs": [],
   "source": [
    "# Sort the data frame based on the percentage change in descending order\n",
    "sorted_data = merged_data.sort_values(by='fuel_type_diesel_Percentage_Change', ascending=False)"
   ]
  },
  {
   "cell_type": "code",
   "execution_count": 59,
   "id": "92c5ae71",
   "metadata": {},
   "outputs": [],
   "source": [
    "top_3d = sorted_data[['dist_code', 'fuel_type_diesel_Percentage_Change']].head(3)\n",
    "bottom_3d = sorted_data[['dist_code', 'fuel_type_diesel_Percentage_Change']].tail(3)"
   ]
  },
  {
   "cell_type": "code",
   "execution_count": 60,
   "id": "5da801dd",
   "metadata": {},
   "outputs": [
    {
     "name": "stdout",
     "output_type": "stream",
     "text": [
      "Top 3 Districts with Highest Vehicle Sales Growth (FY2022 vs. FY2021):\n",
      "   dist_code  fuel_type_diesel_Percentage_Change\n",
      "17      20_1                          111.442193\n",
      "9       17_2                           13.206396\n",
      "4       15_1                           12.674517\n",
      "\n",
      "Bottom 3 Districts with Lowest Vehicle Sales Growth (FY2022 vs. FY2021):\n",
      "   dist_code  fuel_type_diesel_Percentage_Change\n",
      "22      21_3                          -21.996830\n",
      "23      21_5                          -24.289467\n",
      "21      21_2                          -48.032185\n"
     ]
    }
   ],
   "source": [
    "print(\"Top 3 Districts with Highest Vehicle Sales Growth (FY2022 vs. FY2021):\")\n",
    "print(top_3d)\n",
    "\n",
    "print(\"\\nBottom 3 Districts with Lowest Vehicle Sales Growth (FY2022 vs. FY2021):\")\n",
    "print(bottom_3d)"
   ]
  },
  {
   "cell_type": "code",
   "execution_count": 70,
   "id": "07262f7d",
   "metadata": {},
   "outputs": [
    {
     "name": "stderr",
     "output_type": "stream",
     "text": [
      "C:\\Users\\raman\\AppData\\Local\\Temp\\ipykernel_24276\\3439526543.py:2: FutureWarning: The frame.append method is deprecated and will be removed from pandas in a future version. Use pandas.concat instead.\n",
      "  top_bottom_data = top_3d.append(bottom_3d)\n"
     ]
    },
    {
     "data": {
      "image/png": "[encoded data removed]",
      "text/plain": [
       "<Figure size 600x400 with 1 Axes>"
      ]
     },
     "metadata": {},
     "output_type": "display_data"
    }
   ],
   "source": [
    "# Top 3 and bottom 3 districts\n",
    "top_bottom_data = top_3d.append(bottom_3d)\n",
    "\n",
    "# Create a bar plot\n",
    "plt.figure(figsize=(6, 4))\n",
    "plt.bar(top_bottom_data['dist_code'], top_bottom_data['fuel_type_diesel_Percentage_Change'], color=['green' if x >= 0 else 'red' for x in top_bottom_data['fuel_type_diesel_Percentage_Change']])\n",
    "plt.xlabel('Districts')\n",
    "plt.ylabel('Percentage Change in Diesel Vehicle Sales (FY2022 vs. FY2021)')\n",
    "plt.title('Top 3 and Bottom 3 Districts: Diesel Vehicle Sales (FY2022 vs. FY2021)')\n",
    "plt.xticks(rotation=45)\n",
    "plt.grid(axis='y', linestyle='--', alpha=0.7)\n",
    "\n",
    "# Display the plot\n",
    "plt.tight_layout()\n",
    "plt.show()"
   ]
  },
  {
   "cell_type": "code",
   "execution_count": 61,
   "id": "d0d9a309",
   "metadata": {},
   "outputs": [],
   "source": [
    "# Sort the data frame based on the percentage change in descending order\n",
    "sorted_data = merged_data.sort_values(by='fuel_type_electric_Percentage_Change', ascending=False)"
   ]
  },
  {
   "cell_type": "code",
   "execution_count": 62,
   "id": "d2aa5b91",
   "metadata": {},
   "outputs": [],
   "source": [
    "top_3e = sorted_data[['dist_code', 'fuel_type_electric_Percentage_Change']].head(3)\n",
    "bottom_3e = sorted_data[['dist_code', 'fuel_type_electric_Percentage_Change']].tail(3)"
   ]
  },
  {
   "cell_type": "code",
   "execution_count": 63,
   "id": "da4244c7",
   "metadata": {},
   "outputs": [
    {
     "name": "stdout",
     "output_type": "stream",
     "text": [
      "Top 3 Districts with Highest Vehicle Sales Growth (FY2022 vs. FY2021):\n",
      "   dist_code  fuel_type_electric_Percentage_Change\n",
      "25      22_1                            409.395973\n",
      "26      22_2                            281.578947\n",
      "28      23_2                            247.150259\n",
      "\n",
      "Bottom 3 Districts with Lowest Vehicle Sales Growth (FY2022 vs. FY2021):\n",
      "   dist_code  fuel_type_electric_Percentage_Change\n",
      "15      19_3                             19.191919\n",
      "19      20_3                             14.917127\n",
      "3       14_4                              5.479452\n"
     ]
    }
   ],
   "source": [
    "print(\"Top 3 Districts with Highest Vehicle Sales Growth (FY2022 vs. FY2021):\")\n",
    "print(top_3e)\n",
    "\n",
    "print(\"\\nBottom 3 Districts with Lowest Vehicle Sales Growth (FY2022 vs. FY2021):\")\n",
    "print(bottom_3e)"
   ]
  },
  {
   "cell_type": "code",
   "execution_count": 71,
   "id": "56ff809e",
   "metadata": {},
   "outputs": [
    {
     "name": "stderr",
     "output_type": "stream",
     "text": [
      "C:\\Users\\raman\\AppData\\Local\\Temp\\ipykernel_24276\\2999549768.py:2: FutureWarning: The frame.append method is deprecated and will be removed from pandas in a future version. Use pandas.concat instead.\n",
      "  top_bottom_data = top_3e.append(bottom_3e)\n"
     ]
    },
    {
     "data": {
      "image/png": "[encoded data removed]",
      "text/plain": [
       "<Figure size 600x400 with 1 Axes>"
      ]
     },
     "metadata": {},
     "output_type": "display_data"
    }
   ],
   "source": [
    "# Top 3 and bottom 3 districts\n",
    "top_bottom_data = top_3e.append(bottom_3e)\n",
    "\n",
    "# Create a bar plot\n",
    "plt.figure(figsize=(6, 4))\n",
    "plt.bar(top_bottom_data['dist_code'], top_bottom_data['fuel_type_electric_Percentage_Change'], color=['green' if x >= 0 else 'red' for x in top_bottom_data['fuel_type_electric_Percentage_Change']])\n",
    "plt.xlabel('Districts')\n",
    "plt.ylabel('Percentage Change in electric Vehicle Sales (FY2022 vs. FY2021)')\n",
    "plt.title('Top 3 and Bottom 3 Districts: Electric Vehicle Sales (FY2022 vs. FY2021)')\n",
    "plt.xticks(rotation=45)\n",
    "plt.grid(axis='y', linestyle='--', alpha=0.7)\n",
    "\n",
    "# Display the plot\n",
    "plt.tight_layout()\n",
    "plt.show()"
   ]
  },
  {
   "cell_type": "code",
   "execution_count": null,
   "id": "2fa4d899",
   "metadata": {},
   "outputs": [],
   "source": []
  },
  {
   "cell_type": "code",
   "execution_count": null,
   "id": "731e338e",
   "metadata": {},
   "outputs": [],
   "source": []
  },
  {
   "cell_type": "code",
   "execution_count": null,
   "id": "f6b13ea2",
   "metadata": {},
   "outputs": [],
   "source": []
  },
  {
   "cell_type": "code",
   "execution_count": null,
   "id": "c9a588ba",
   "metadata": {},
   "outputs": [],
   "source": []
  }
 ],
 "metadata": {
  "kernelspec": {
   "display_name": "Python 3 (ipykernel)",
   "language": "python",
   "name": "python3"
  },
  "language_info": {
   "codemirror_mode": {
    "name": "ipython",
    "version": 3
   },
   "file_extension": ".py",
   "mimetype": "text/x-python",
   "name": "python",
   "nbconvert_exporter": "python",
   "pygments_lexer": "ipython3",
   "version": "3.9.13"
  }
 },
 "nbformat": 4,
 "nbformat_minor": 5
}
