{
 "cells": [
  {
   "cell_type": "code",
   "execution_count": 1,
   "id": "f044a02a",
   "metadata": {},
   "outputs": [],
   "source": [
    "import pandas as pd\n",
    "import seaborn as sns\n",
    "import matplotlib.pyplot as plt"
   ]
  },
  {
   "cell_type": "code",
   "execution_count": 17,
   "id": "8fb81087",
   "metadata": {},
   "outputs": [],
   "source": [
    "df = pd.read_csv('fact_stamps.csv')"
   ]
  },
  {
   "cell_type": "code",
   "execution_count": 18,
   "id": "f6b94b84",
   "metadata": {},
   "outputs": [],
   "source": [
    "df['month'] = pd.to_datetime(df['month'])"
   ]
  },
  {
   "cell_type": "code",
   "execution_count": 19,
   "id": "0af467db",
   "metadata": {},
   "outputs": [],
   "source": [
    "fy_2022_data = df[(df['month'] >= '2021-04') & (df['month'] <= '2022-03')]"
   ]
  },
  {
   "cell_type": "code",
   "execution_count": 20,
   "id": "4dd27b6d",
   "metadata": {},
   "outputs": [],
   "source": [
    "district_revenue = fy_2022_data.groupby('dist_code').agg({\n",
    "    'documents_registered_rev': 'sum',\n",
    "    'estamps_challans_rev': 'sum'}).reset_index()"
   ]
  },
  {
   "cell_type": "code",
   "execution_count": 21,
   "id": "ea3bbf6b",
   "metadata": {},
   "outputs": [],
   "source": [
    "district_revenue['total_document_revenue'] = district_revenue['documents_registered_rev']\n",
    "district_revenue['total_estamp_revenue'] = district_revenue['estamps_challans_rev']"
   ]
  },
  {
   "cell_type": "code",
   "execution_count": 22,
   "id": "dac035f3",
   "metadata": {},
   "outputs": [],
   "source": [
    "district_revenue['revenue_comparison'] = district_revenue['total_document_revenue'] - district_revenue['total_estamp_revenue']"
   ]
  },
  {
   "cell_type": "code",
   "execution_count": 23,
   "id": "21130fd9",
   "metadata": {},
   "outputs": [],
   "source": [
    "top_districts = district_revenue.sort_values(by='revenue_comparison', ascending=False).head(5)"
   ]
  },
  {
   "cell_type": "code",
   "execution_count": 24,
   "id": "a741b8ef",
   "metadata": {},
   "outputs": [
    {
     "name": "stdout",
     "output_type": "stream",
     "text": [
      "Top 5 Districts with Higher Document Registration Revenue than E-Stamp Challans in FY 2022:\n",
      "   dist_code  total_document_revenue  total_estamp_revenue  revenue_comparison\n",
      "31      23_3              1619590278            1616599565             2990713\n",
      "17      19_4                61025705              58294715             2730990\n",
      "15      19_2               295357009             293878065             1478944\n",
      "23      21_2               174157126             173457579              699547\n",
      "1       14_2               272675969             272076616              599353\n"
     ]
    }
   ],
   "source": [
    "print(\"Top 5 Districts with Higher Document Registration Revenue than E-Stamp Challans in FY 2022:\")\n",
    "print(top_districts[['dist_code', 'total_document_revenue', 'total_estamp_revenue', 'revenue_comparison']])"
   ]
  },
  {
   "cell_type": "code",
   "execution_count": 25,
   "id": "a5701a3d",
   "metadata": {},
   "outputs": [],
   "source": [
    "df_2 = pd.read_csv('fact_stamps.csv')"
   ]
  },
  {
   "cell_type": "code",
   "execution_count": 26,
   "id": "286e56d3",
   "metadata": {},
   "outputs": [],
   "source": [
    "df_2['month'] = pd.to_datetime(df_2['month'])"
   ]
  },
  {
   "cell_type": "code",
   "execution_count": 28,
   "id": "c7239d1b",
   "metadata": {},
   "outputs": [],
   "source": [
    "df_fy_2022 = df_2[df_2['month'].dt.year == 2022]"
   ]
  },
  {
   "cell_type": "code",
   "execution_count": 29,
   "id": "e6c7b224",
   "metadata": {},
   "outputs": [
    {
     "name": "stderr",
     "output_type": "stream",
     "text": [
      "C:\\Users\\raman\\AppData\\Local\\Temp\\ipykernel_19140\\1163463421.py:1: SettingWithCopyWarning: \n",
      "A value is trying to be set on a copy of a slice from a DataFrame.\n",
      "Try using .loc[row_indexer,col_indexer] = value instead\n",
      "\n",
      "See the caveats in the documentation: https://pandas.pydata.org/pandas-docs/stable/user_guide/indexing.html#returning-a-view-versus-a-copy\n",
      "  df_fy_2022['revenue_difference'] = df_fy_2022['estamps_challans_rev'] - df_fy_2022['documents_registered_rev']\n"
     ]
    }
   ],
   "source": [
    "df_fy_2022['revenue_difference'] = df_fy_2022['estamps_challans_rev'] - df_fy_2022['documents_registered_rev']"
   ]
  },
  {
   "cell_type": "code",
   "execution_count": 30,
   "id": "17a0709b",
   "metadata": {},
   "outputs": [],
   "source": [
    "top_5_districts = df_fy_2022[df_fy_2022['revenue_difference'] > 0].nlargest(5, 'revenue_difference')"
   ]
  },
  {
   "cell_type": "code",
   "execution_count": 31,
   "id": "83ef5a3a",
   "metadata": {},
   "outputs": [
    {
     "name": "stdout",
     "output_type": "stream",
     "text": [
      "Top 5 Districts with Higher E-Stamps Revenue than Document Registration (FY 2022):\n",
      "     dist_code  revenue_difference\n",
      "1025      15_2           495633206\n",
      "1387      15_1           242891262\n",
      "1043      15_1           220776866\n",
      "1115      15_2           181396385\n",
      "1137      15_1           168697896\n"
     ]
    }
   ],
   "source": [
    "print(\"Top 5 Districts with Higher E-Stamps Revenue than Document Registration (FY 2022):\")\n",
    "print(top_5_districts[['dist_code', 'revenue_difference']])"
   ]
  },
  {
   "cell_type": "code",
   "execution_count": null,
   "id": "772f368c",
   "metadata": {},
   "outputs": [],
   "source": []
  }
 ],
 "metadata": {
  "kernelspec": {
   "display_name": "Python 3 (ipykernel)",
   "language": "python",
   "name": "python3"
  },
  "language_info": {
   "codemirror_mode": {
    "name": "ipython",
    "version": 3
   },
   "file_extension": ".py",
   "mimetype": "text/x-python",
   "name": "python",
   "nbconvert_exporter": "python",
   "pygments_lexer": "ipython3",
   "version": "3.9.13"
  }
 },
 "nbformat": 4,
 "nbformat_minor": 5
}
